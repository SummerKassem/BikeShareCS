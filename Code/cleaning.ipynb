{
 "cells": [
  {
   "cell_type": "markdown",
   "metadata": {},
   "source": [
    "In order to run the code that does the basic steps run the cells numbered with hashtags"
   ]
  },
  {
   "cell_type": "markdown",
   "metadata": {},
   "source": [
    "First the imports"
   ]
  },
  {
   "cell_type": "code",
   "execution_count": 306,
   "metadata": {},
   "outputs": [],
   "source": [
    "#1\n",
    "import os \n",
    "\n",
    "import pandas as pd\n",
    "import numpy as np\n",
    "import csv\n",
    "import calendar\n",
    "import copy\n",
    "\n",
    "from statistics import mean, mode"
   ]
  },
  {
   "cell_type": "markdown",
   "metadata": {},
   "source": [
    "# Exploration & Cleaning:"
   ]
  },
  {
   "attachments": {},
   "cell_type": "markdown",
   "metadata": {},
   "source": [
    "We want to have the data in an accessible form. This is done by reading the data into a dictionary of panada dataframes. Each element in the dictionary has a key (which is the name of the month the data was collected in) and a value (the csv entries in a panda dataframe) "
   ]
  },
  {
   "cell_type": "code",
   "execution_count": 207,
   "metadata": {},
   "outputs": [],
   "source": [
    "#2\n",
    "# returns a dictionary containing the data from the .csv files\n",
    "def read_data(dir):\n",
    "    dfs = {}\n",
    "    files = os.listdir(dir)\n",
    "\n",
    "    # filter files by .csv bec some are google sheets\n",
    "    # extract the number of the month, then sort by month so that they are then stored in order of month\n",
    "    csv_files = sorted([int(file[4:6]) for file in files if file.endswith('.csv')])\n",
    "    \n",
    "    for csv_file in csv_files:\n",
    "        # reconstruct the name of file bec we extracted the month number to sort them by month\n",
    "        reconstructed_name = '2023'+str(csv_file)+'-divvy-tripdata.csv' if csv_file >= 10 else '20230'+str(csv_file)+'-divvy-tripdata.csv'\n",
    "        f = os.path.join(dir, reconstructed_name) \n",
    "        \n",
    "        # get month name\n",
    "        month = calendar.month_name[csv_file]\n",
    "        \n",
    "        # read csv file into dataframe\n",
    "        dfs[month] = pd.read_csv(f)\n",
    "\n",
    "    return dfs"
   ]
  },
  {
   "cell_type": "code",
   "execution_count": 209,
   "metadata": {},
   "outputs": [],
   "source": [
    "#3\n",
    "original_dir = \"../../BikeShareData/OriginalData\"\n",
    "original_data = read_data(original_dir)"
   ]
  },
  {
   "cell_type": "code",
   "execution_count": 210,
   "metadata": {},
   "outputs": [
    {
     "name": "stdout",
     "output_type": "stream",
     "text": [
      "11\n"
     ]
    }
   ],
   "source": [
    "# no of files should be 11\n",
    "no_of_files = len(original_data)\n",
    "print(no_of_files)"
   ]
  },
  {
   "cell_type": "code",
   "execution_count": 211,
   "metadata": {},
   "outputs": [
    {
     "name": "stdout",
     "output_type": "stream",
     "text": [
      "dict_keys(['January', 'February', 'March', 'April', 'May', 'June', 'July', 'August', 'September', 'October', 'November'])\n"
     ]
    }
   ],
   "source": [
    "month_names = original_data.keys()\n",
    "print(month_names)"
   ]
  },
  {
   "cell_type": "code",
   "execution_count": 212,
   "metadata": {},
   "outputs": [
    {
     "data": {
      "text/html": [
       "<div>\n",
       "<style scoped>\n",
       "    .dataframe tbody tr th:only-of-type {\n",
       "        vertical-align: middle;\n",
       "    }\n",
       "\n",
       "    .dataframe tbody tr th {\n",
       "        vertical-align: top;\n",
       "    }\n",
       "\n",
       "    .dataframe thead th {\n",
       "        text-align: right;\n",
       "    }\n",
       "</style>\n",
       "<table border=\"1\" class=\"dataframe\">\n",
       "  <thead>\n",
       "    <tr style=\"text-align: right;\">\n",
       "      <th></th>\n",
       "      <th>ride_id</th>\n",
       "      <th>rideable_type</th>\n",
       "      <th>started_at</th>\n",
       "      <th>ended_at</th>\n",
       "      <th>start_station_name</th>\n",
       "      <th>start_station_id</th>\n",
       "      <th>end_station_name</th>\n",
       "      <th>end_station_id</th>\n",
       "      <th>start_lat</th>\n",
       "      <th>start_lng</th>\n",
       "      <th>end_lat</th>\n",
       "      <th>end_lng</th>\n",
       "      <th>member_casual</th>\n",
       "    </tr>\n",
       "  </thead>\n",
       "  <tbody>\n",
       "    <tr>\n",
       "      <th>0</th>\n",
       "      <td>0D9FA920C3062031</td>\n",
       "      <td>electric_bike</td>\n",
       "      <td>2023-05-07 19:53:48</td>\n",
       "      <td>2023-05-07 19:58:32</td>\n",
       "      <td>Southport Ave &amp; Belmont Ave</td>\n",
       "      <td>13229</td>\n",
       "      <td>NaN</td>\n",
       "      <td>NaN</td>\n",
       "      <td>41.939408</td>\n",
       "      <td>-87.663831</td>\n",
       "      <td>41.930000</td>\n",
       "      <td>-87.650000</td>\n",
       "      <td>member</td>\n",
       "    </tr>\n",
       "    <tr>\n",
       "      <th>1</th>\n",
       "      <td>92485E5FB5888ACD</td>\n",
       "      <td>electric_bike</td>\n",
       "      <td>2023-05-06 18:54:08</td>\n",
       "      <td>2023-05-06 19:03:35</td>\n",
       "      <td>Southport Ave &amp; Belmont Ave</td>\n",
       "      <td>13229</td>\n",
       "      <td>NaN</td>\n",
       "      <td>NaN</td>\n",
       "      <td>41.939482</td>\n",
       "      <td>-87.663848</td>\n",
       "      <td>41.940000</td>\n",
       "      <td>-87.690000</td>\n",
       "      <td>member</td>\n",
       "    </tr>\n",
       "    <tr>\n",
       "      <th>2</th>\n",
       "      <td>FB144B3FC8300187</td>\n",
       "      <td>electric_bike</td>\n",
       "      <td>2023-05-21 00:40:21</td>\n",
       "      <td>2023-05-21 00:44:36</td>\n",
       "      <td>Halsted St &amp; 21st St</td>\n",
       "      <td>13162</td>\n",
       "      <td>NaN</td>\n",
       "      <td>NaN</td>\n",
       "      <td>41.853793</td>\n",
       "      <td>-87.646719</td>\n",
       "      <td>41.860000</td>\n",
       "      <td>-87.650000</td>\n",
       "      <td>member</td>\n",
       "    </tr>\n",
       "    <tr>\n",
       "      <th>3</th>\n",
       "      <td>DDEB93BC2CE9AA77</td>\n",
       "      <td>classic_bike</td>\n",
       "      <td>2023-05-10 16:47:01</td>\n",
       "      <td>2023-05-10 16:59:52</td>\n",
       "      <td>Carpenter St &amp; Huron St</td>\n",
       "      <td>13196</td>\n",
       "      <td>Damen Ave &amp; Cortland St</td>\n",
       "      <td>13133</td>\n",
       "      <td>41.894556</td>\n",
       "      <td>-87.653449</td>\n",
       "      <td>41.915983</td>\n",
       "      <td>-87.677335</td>\n",
       "      <td>member</td>\n",
       "    </tr>\n",
       "    <tr>\n",
       "      <th>4</th>\n",
       "      <td>C07B70172FC92F59</td>\n",
       "      <td>classic_bike</td>\n",
       "      <td>2023-05-09 18:30:34</td>\n",
       "      <td>2023-05-09 18:39:28</td>\n",
       "      <td>Southport Ave &amp; Clark St</td>\n",
       "      <td>TA1308000047</td>\n",
       "      <td>Southport Ave &amp; Belmont Ave</td>\n",
       "      <td>13229</td>\n",
       "      <td>41.957081</td>\n",
       "      <td>-87.664199</td>\n",
       "      <td>41.939478</td>\n",
       "      <td>-87.663748</td>\n",
       "      <td>member</td>\n",
       "    </tr>\n",
       "    <tr>\n",
       "      <th>...</th>\n",
       "      <td>...</td>\n",
       "      <td>...</td>\n",
       "      <td>...</td>\n",
       "      <td>...</td>\n",
       "      <td>...</td>\n",
       "      <td>...</td>\n",
       "      <td>...</td>\n",
       "      <td>...</td>\n",
       "      <td>...</td>\n",
       "      <td>...</td>\n",
       "      <td>...</td>\n",
       "      <td>...</td>\n",
       "      <td>...</td>\n",
       "    </tr>\n",
       "    <tr>\n",
       "      <th>604822</th>\n",
       "      <td>48BDA26F34445546</td>\n",
       "      <td>electric_bike</td>\n",
       "      <td>2023-05-18 10:26:43</td>\n",
       "      <td>2023-05-18 10:48:00</td>\n",
       "      <td>Clark St &amp; Elmdale Ave</td>\n",
       "      <td>KA1504000148</td>\n",
       "      <td>NaN</td>\n",
       "      <td>NaN</td>\n",
       "      <td>41.990876</td>\n",
       "      <td>-87.669721</td>\n",
       "      <td>42.000000</td>\n",
       "      <td>-87.660000</td>\n",
       "      <td>member</td>\n",
       "    </tr>\n",
       "    <tr>\n",
       "      <th>604823</th>\n",
       "      <td>573025E5EDE10DE1</td>\n",
       "      <td>electric_bike</td>\n",
       "      <td>2023-05-17 14:32:48</td>\n",
       "      <td>2023-05-17 14:45:37</td>\n",
       "      <td>State St &amp; 33rd St</td>\n",
       "      <td>13216</td>\n",
       "      <td>NaN</td>\n",
       "      <td>NaN</td>\n",
       "      <td>41.834734</td>\n",
       "      <td>-87.625798</td>\n",
       "      <td>41.830000</td>\n",
       "      <td>-87.620000</td>\n",
       "      <td>member</td>\n",
       "    </tr>\n",
       "    <tr>\n",
       "      <th>604824</th>\n",
       "      <td>D88D48898C6FB63E</td>\n",
       "      <td>electric_bike</td>\n",
       "      <td>2023-05-17 07:59:29</td>\n",
       "      <td>2023-05-17 08:04:54</td>\n",
       "      <td>Columbus Dr &amp; Randolph St</td>\n",
       "      <td>13263</td>\n",
       "      <td>NaN</td>\n",
       "      <td>NaN</td>\n",
       "      <td>41.884422</td>\n",
       "      <td>-87.619393</td>\n",
       "      <td>41.880000</td>\n",
       "      <td>-87.630000</td>\n",
       "      <td>member</td>\n",
       "    </tr>\n",
       "    <tr>\n",
       "      <th>604825</th>\n",
       "      <td>4692DCD2F87497F5</td>\n",
       "      <td>electric_bike</td>\n",
       "      <td>2023-05-18 08:34:48</td>\n",
       "      <td>2023-05-18 08:38:40</td>\n",
       "      <td>Public Rack - Karlov Ave &amp; Lawrence Ave</td>\n",
       "      <td>1127.0</td>\n",
       "      <td>NaN</td>\n",
       "      <td>NaN</td>\n",
       "      <td>41.970000</td>\n",
       "      <td>-87.730000</td>\n",
       "      <td>41.970000</td>\n",
       "      <td>-87.740000</td>\n",
       "      <td>member</td>\n",
       "    </tr>\n",
       "    <tr>\n",
       "      <th>604826</th>\n",
       "      <td>6ACB7E383473D019</td>\n",
       "      <td>electric_bike</td>\n",
       "      <td>2023-05-29 21:16:58</td>\n",
       "      <td>2023-05-29 21:24:35</td>\n",
       "      <td>State St &amp; 33rd St</td>\n",
       "      <td>13216</td>\n",
       "      <td>NaN</td>\n",
       "      <td>NaN</td>\n",
       "      <td>41.834715</td>\n",
       "      <td>-87.625764</td>\n",
       "      <td>41.840000</td>\n",
       "      <td>-87.650000</td>\n",
       "      <td>member</td>\n",
       "    </tr>\n",
       "  </tbody>\n",
       "</table>\n",
       "<p>604827 rows × 13 columns</p>\n",
       "</div>"
      ],
      "text/plain": [
       "                 ride_id  rideable_type           started_at  \\\n",
       "0       0D9FA920C3062031  electric_bike  2023-05-07 19:53:48   \n",
       "1       92485E5FB5888ACD  electric_bike  2023-05-06 18:54:08   \n",
       "2       FB144B3FC8300187  electric_bike  2023-05-21 00:40:21   \n",
       "3       DDEB93BC2CE9AA77   classic_bike  2023-05-10 16:47:01   \n",
       "4       C07B70172FC92F59   classic_bike  2023-05-09 18:30:34   \n",
       "...                  ...            ...                  ...   \n",
       "604822  48BDA26F34445546  electric_bike  2023-05-18 10:26:43   \n",
       "604823  573025E5EDE10DE1  electric_bike  2023-05-17 14:32:48   \n",
       "604824  D88D48898C6FB63E  electric_bike  2023-05-17 07:59:29   \n",
       "604825  4692DCD2F87497F5  electric_bike  2023-05-18 08:34:48   \n",
       "604826  6ACB7E383473D019  electric_bike  2023-05-29 21:16:58   \n",
       "\n",
       "                   ended_at                       start_station_name  \\\n",
       "0       2023-05-07 19:58:32              Southport Ave & Belmont Ave   \n",
       "1       2023-05-06 19:03:35              Southport Ave & Belmont Ave   \n",
       "2       2023-05-21 00:44:36                     Halsted St & 21st St   \n",
       "3       2023-05-10 16:59:52                  Carpenter St & Huron St   \n",
       "4       2023-05-09 18:39:28                 Southport Ave & Clark St   \n",
       "...                     ...                                      ...   \n",
       "604822  2023-05-18 10:48:00                   Clark St & Elmdale Ave   \n",
       "604823  2023-05-17 14:45:37                       State St & 33rd St   \n",
       "604824  2023-05-17 08:04:54                Columbus Dr & Randolph St   \n",
       "604825  2023-05-18 08:38:40  Public Rack - Karlov Ave & Lawrence Ave   \n",
       "604826  2023-05-29 21:24:35                       State St & 33rd St   \n",
       "\n",
       "       start_station_id             end_station_name end_station_id  \\\n",
       "0                 13229                          NaN            NaN   \n",
       "1                 13229                          NaN            NaN   \n",
       "2                 13162                          NaN            NaN   \n",
       "3                 13196      Damen Ave & Cortland St          13133   \n",
       "4          TA1308000047  Southport Ave & Belmont Ave          13229   \n",
       "...                 ...                          ...            ...   \n",
       "604822     KA1504000148                          NaN            NaN   \n",
       "604823            13216                          NaN            NaN   \n",
       "604824            13263                          NaN            NaN   \n",
       "604825           1127.0                          NaN            NaN   \n",
       "604826            13216                          NaN            NaN   \n",
       "\n",
       "        start_lat  start_lng    end_lat    end_lng member_casual  \n",
       "0       41.939408 -87.663831  41.930000 -87.650000        member  \n",
       "1       41.939482 -87.663848  41.940000 -87.690000        member  \n",
       "2       41.853793 -87.646719  41.860000 -87.650000        member  \n",
       "3       41.894556 -87.653449  41.915983 -87.677335        member  \n",
       "4       41.957081 -87.664199  41.939478 -87.663748        member  \n",
       "...           ...        ...        ...        ...           ...  \n",
       "604822  41.990876 -87.669721  42.000000 -87.660000        member  \n",
       "604823  41.834734 -87.625798  41.830000 -87.620000        member  \n",
       "604824  41.884422 -87.619393  41.880000 -87.630000        member  \n",
       "604825  41.970000 -87.730000  41.970000 -87.740000        member  \n",
       "604826  41.834715 -87.625764  41.840000 -87.650000        member  \n",
       "\n",
       "[604827 rows x 13 columns]"
      ]
     },
     "execution_count": 212,
     "metadata": {},
     "output_type": "execute_result"
    }
   ],
   "source": [
    "# the first and last 5 entries\n",
    "#original_data[\"January\"]\n",
    "#original_data[\"February\"]\n",
    "#original_data[\"March\"]\n",
    "#original_data[\"April\"]\n",
    "original_data[\"May\"]\n",
    "#original_data[\"June\"]\n",
    "#original_data[\"July\"]\n",
    "#original_data[\"August\"]\n",
    "#original_data[\"September\"]\n",
    "#original_data[\"October\"]\n",
    "#original_data[\"November\"]"
   ]
  },
  {
   "cell_type": "code",
   "execution_count": 213,
   "metadata": {},
   "outputs": [
    {
     "data": {
      "text/plain": [
       "(604827, 13)"
      ]
     },
     "execution_count": 213,
     "metadata": {},
     "output_type": "execute_result"
    }
   ],
   "source": [
    "original_data[\"May\"].dtypes\n",
    "original_data[\"May\"].shape"
   ]
  },
  {
   "cell_type": "code",
   "execution_count": 214,
   "metadata": {},
   "outputs": [
    {
     "name": "stdout",
     "output_type": "stream",
     "text": [
      "Column Name:          NUnique\n",
      "ride_id               604827\n",
      "rideable_type              3\n",
      "started_at            503683\n",
      "ended_at              505259\n",
      "start_station_name      1287\n",
      "start_station_id        1250\n",
      "end_station_name        1254\n",
      "end_station_id          1210\n",
      "start_lat             188591\n",
      "start_lng             185410\n",
      "end_lat                 4759\n",
      "end_lng                 4762\n",
      "member_casual              2\n",
      "dtype: int64\n",
      "['electric_bike' 'classic_bike' 'docked_bike']\n",
      "['member' 'casual']\n"
     ]
    }
   ],
   "source": [
    "# the number of unique values in May\n",
    "# unique values for specific columns\n",
    "print(\"Column Name:          NUnique\")\n",
    "print(original_data['May'].nunique())\n",
    "print(original_data['May'].rideable_type.unique())\n",
    "print(original_data['May'].member_casual.unique())"
   ]
  },
  {
   "cell_type": "code",
   "execution_count": 215,
   "metadata": {},
   "outputs": [
    {
     "name": "stdout",
     "output_type": "stream",
     "text": [
      "Total: \t 604827\n",
      "Started_At:  503683\n",
      "Percent:  16.72279842004408\n",
      "Started_At:  604827\n"
     ]
    }
   ],
   "source": [
    "# total number of entries\n",
    "total = original_data[\"May\"].ride_id.nunique()\n",
    "# number of unique started at\n",
    "started = original_data[\"May\"].started_at.nunique()\n",
    "print(\"Total: \\t\",total)\n",
    "print(\"Started_At: \",started)\n",
    "print(\"Percent: \",(total-started)*100/total)\n",
    "\n",
    "# how many times was the started_at repeated\n",
    "duplicated_col = original_data[\"May\"].started_at.duplicated()\n",
    "print(\"Started_At: \",duplicated_col.sum()+original_data[\"May\"].started_at.nunique())\n",
    "get_values = original_data[\"May\"][duplicated_col]\n",
    "# get first value in the duplicates\n",
    "first_entry = original_data[\"May\"][duplicated_col].iloc[0].started_at\n"
   ]
  },
  {
   "cell_type": "code",
   "execution_count": 216,
   "metadata": {},
   "outputs": [
    {
     "data": {
      "text/html": [
       "<div>\n",
       "<style scoped>\n",
       "    .dataframe tbody tr th:only-of-type {\n",
       "        vertical-align: middle;\n",
       "    }\n",
       "\n",
       "    .dataframe tbody tr th {\n",
       "        vertical-align: top;\n",
       "    }\n",
       "\n",
       "    .dataframe thead th {\n",
       "        text-align: right;\n",
       "    }\n",
       "</style>\n",
       "<table border=\"1\" class=\"dataframe\">\n",
       "  <thead>\n",
       "    <tr style=\"text-align: right;\">\n",
       "      <th></th>\n",
       "      <th>ride_id</th>\n",
       "      <th>rideable_type</th>\n",
       "      <th>started_at</th>\n",
       "      <th>ended_at</th>\n",
       "      <th>start_station_name</th>\n",
       "      <th>start_station_id</th>\n",
       "      <th>end_station_name</th>\n",
       "      <th>end_station_id</th>\n",
       "      <th>start_lat</th>\n",
       "      <th>start_lng</th>\n",
       "      <th>end_lat</th>\n",
       "      <th>end_lng</th>\n",
       "      <th>member_casual</th>\n",
       "    </tr>\n",
       "  </thead>\n",
       "  <tbody>\n",
       "    <tr>\n",
       "      <th>727</th>\n",
       "      <td>041763A703C94783</td>\n",
       "      <td>electric_bike</td>\n",
       "      <td>2023-05-28 14:59:58</td>\n",
       "      <td>2023-05-28 15:12:47</td>\n",
       "      <td>Kedzie Ave &amp; Milwaukee Ave</td>\n",
       "      <td>13085</td>\n",
       "      <td>Kilpatrick Ave &amp; Parker Ave</td>\n",
       "      <td>358</td>\n",
       "      <td>41.929673</td>\n",
       "      <td>-87.708045</td>\n",
       "      <td>41.930731</td>\n",
       "      <td>-87.744106</td>\n",
       "      <td>casual</td>\n",
       "    </tr>\n",
       "    <tr>\n",
       "      <th>2710</th>\n",
       "      <td>5AEC034DB275854E</td>\n",
       "      <td>electric_bike</td>\n",
       "      <td>2023-05-28 14:59:58</td>\n",
       "      <td>2023-05-28 15:26:56</td>\n",
       "      <td>Broadway &amp; Belmont Ave</td>\n",
       "      <td>13277</td>\n",
       "      <td>NaN</td>\n",
       "      <td>NaN</td>\n",
       "      <td>41.940170</td>\n",
       "      <td>-87.645626</td>\n",
       "      <td>41.960000</td>\n",
       "      <td>-87.640000</td>\n",
       "      <td>casual</td>\n",
       "    </tr>\n",
       "    <tr>\n",
       "      <th>400665</th>\n",
       "      <td>A99D22D37DC92962</td>\n",
       "      <td>electric_bike</td>\n",
       "      <td>2023-05-28 14:59:58</td>\n",
       "      <td>2023-05-28 15:09:35</td>\n",
       "      <td>NaN</td>\n",
       "      <td>NaN</td>\n",
       "      <td>MTV Hubbard St</td>\n",
       "      <td>021320</td>\n",
       "      <td>41.880000</td>\n",
       "      <td>-87.660000</td>\n",
       "      <td>41.889779</td>\n",
       "      <td>-87.680341</td>\n",
       "      <td>member</td>\n",
       "    </tr>\n",
       "    <tr>\n",
       "      <th>557920</th>\n",
       "      <td>79A55702C0B6D246</td>\n",
       "      <td>docked_bike</td>\n",
       "      <td>2023-05-28 14:59:58</td>\n",
       "      <td>2023-05-28 16:24:12</td>\n",
       "      <td>Streeter Dr &amp; Grand Ave</td>\n",
       "      <td>13022</td>\n",
       "      <td>Field Museum</td>\n",
       "      <td>13029</td>\n",
       "      <td>41.892278</td>\n",
       "      <td>-87.612043</td>\n",
       "      <td>41.865312</td>\n",
       "      <td>-87.617867</td>\n",
       "      <td>casual</td>\n",
       "    </tr>\n",
       "  </tbody>\n",
       "</table>\n",
       "</div>"
      ],
      "text/plain": [
       "                 ride_id  rideable_type           started_at  \\\n",
       "727     041763A703C94783  electric_bike  2023-05-28 14:59:58   \n",
       "2710    5AEC034DB275854E  electric_bike  2023-05-28 14:59:58   \n",
       "400665  A99D22D37DC92962  electric_bike  2023-05-28 14:59:58   \n",
       "557920  79A55702C0B6D246    docked_bike  2023-05-28 14:59:58   \n",
       "\n",
       "                   ended_at          start_station_name start_station_id  \\\n",
       "727     2023-05-28 15:12:47  Kedzie Ave & Milwaukee Ave            13085   \n",
       "2710    2023-05-28 15:26:56      Broadway & Belmont Ave            13277   \n",
       "400665  2023-05-28 15:09:35                         NaN              NaN   \n",
       "557920  2023-05-28 16:24:12     Streeter Dr & Grand Ave            13022   \n",
       "\n",
       "                   end_station_name end_station_id  start_lat  start_lng  \\\n",
       "727     Kilpatrick Ave & Parker Ave            358  41.929673 -87.708045   \n",
       "2710                            NaN            NaN  41.940170 -87.645626   \n",
       "400665               MTV Hubbard St         021320  41.880000 -87.660000   \n",
       "557920                 Field Museum          13029  41.892278 -87.612043   \n",
       "\n",
       "          end_lat    end_lng member_casual  \n",
       "727     41.930731 -87.744106        casual  \n",
       "2710    41.960000 -87.640000        casual  \n",
       "400665  41.889779 -87.680341        member  \n",
       "557920  41.865312 -87.617867        casual  "
      ]
     },
     "execution_count": 216,
     "metadata": {},
     "output_type": "execute_result"
    }
   ],
   "source": [
    "# find the entry that has the same start_at as the first one retrieved from the duplicates\n",
    "original_data[\"May\"][original_data[\"May\"].started_at == first_entry]"
   ]
  },
  {
   "attachments": {},
   "cell_type": "markdown",
   "metadata": {},
   "source": [
    "The count_entries method will do the following:\n",
    " * calculate number of entires in each file\n",
    " * calculate number of columns in each file\n",
    " * calculate the average and total number of entries across all files\n",
    " * write these outputs to a file\n",
    " * Option to remove duplicates"
   ]
  },
  {
   "cell_type": "code",
   "execution_count": 217,
   "metadata": {},
   "outputs": [],
   "source": [
    "#4\n",
    "def count_entries(dataset, file_name, flag):\n",
    "    with open(file_name, 'w', newline='') as file:\n",
    "        writer = csv.writer(file)\n",
    "        writer.writerow([\"Month\",\"No Of Entries\",\"No Of Cols\"])\n",
    "\n",
    "        total = 0\n",
    "\n",
    "        for month, df in dataset.items():\n",
    "            if flag:\n",
    "                df = df.drop_duplicates()\n",
    "                \n",
    "            entries = len(df)\n",
    "            writer.writerow([month, entries,len(df.columns)])\n",
    "            total += len(df)\n",
    "            print(f\"For {month}:{df.shape}\")\n",
    "\n",
    "        average = int(total/11)\n",
    "        writer.writerow([\"Total:\", total])\n",
    "        writer.writerow([\"Average:\", average])\n",
    "        print(f\"Average number of entries per file: {average}\")\n",
    "        print(f\"Total number of entries across all files: {total}\")\n"
   ]
  },
  {
   "cell_type": "code",
   "execution_count": 218,
   "metadata": {},
   "outputs": [
    {
     "name": "stdout",
     "output_type": "stream",
     "text": [
      "For January:(190301, 13)\n",
      "For February:(190445, 13)\n",
      "For March:(258678, 13)\n",
      "For April:(426590, 13)\n",
      "For May:(604827, 13)\n",
      "For June:(719618, 13)\n",
      "For July:(767650, 13)\n",
      "For August:(771693, 13)\n",
      "For September:(666371, 13)\n",
      "For October:(537113, 13)\n",
      "For November:(362518, 13)\n",
      "Average number of entries per file: 499618\n",
      "Total number of entries across all files: 5495804\n"
     ]
    }
   ],
   "source": [
    "#5\n",
    "count_entries(original_data, \"BikeRides_Original.csv\", False)"
   ]
  },
  {
   "cell_type": "code",
   "execution_count": 219,
   "metadata": {},
   "outputs": [
    {
     "name": "stdout",
     "output_type": "stream",
     "text": [
      "For January:(190301, 13)\n",
      "For February:(190445, 13)\n",
      "For March:(258678, 13)\n",
      "For April:(426590, 13)\n",
      "For May:(604827, 13)\n",
      "For June:(719618, 13)\n",
      "For July:(767650, 13)\n",
      "For August:(771693, 13)\n",
      "For September:(666371, 13)\n",
      "For October:(537113, 13)\n",
      "For November:(362518, 13)\n",
      "Average number of entries per file: 499618\n",
      "Total number of entries across all files: 5495804\n"
     ]
    }
   ],
   "source": [
    "count_entries(original_data, \"BikeRides_without_Duplicates.csv\", True)"
   ]
  },
  {
   "attachments": {},
   "cell_type": "markdown",
   "metadata": {},
   "source": [
    "From the above print out, it is clear that all the files have the same number of columns. So that is a good preliminary check on the consistency of the data across the files. And we can see that in total we have 5.5 Million entries, with an average of 500000 entries per month. All calculated numbers before and after removing duplicates are identical, so the original dataset did not have any duplicates."
   ]
  },
  {
   "cell_type": "markdown",
   "metadata": {},
   "source": [
    "Next we will look at the percentage of nulls across the columns:"
   ]
  },
  {
   "cell_type": "code",
   "execution_count": 220,
   "metadata": {},
   "outputs": [],
   "source": [
    "#6\n",
    "def check_NAN(dataset, filename):\n",
    "    with open(filename, 'w', newline='') as file:\n",
    "        writer = csv.writer(file)\n",
    "\n",
    "        for month, df in dataset.items():\n",
    "            if month == 'January':\n",
    "                # if the month is January add the word \"Month\" to column names\n",
    "                column_names = df.columns.insert(0, \"Month\")\n",
    "                writer.writerow(column_names)\n",
    "            \n",
    "            percentage = df.isna().sum()*100/len(df)\n",
    "            y = percentage.apply(lambda x: str(int(x))+\"%\" if x > 1 else (\"< 1%\" if x > 0 else str(0))).values\n",
    "            values = np.insert(y, 0, month)\n",
    "            print(values)\n",
    "            writer.writerow(values)\n",
    "        "
   ]
  },
  {
   "cell_type": "code",
   "execution_count": 221,
   "metadata": {},
   "outputs": [
    {
     "name": "stdout",
     "output_type": "stream",
     "text": [
      "['January' '0' '0' '0' '0' '14%' '14%' '14%' '14%' '0' '0' '< 1%' '< 1%'\n",
      " '0']\n",
      "['February' '0' '0' '0' '0' '13%' '13%' '14%' '14%' '0' '0' '< 1%' '< 1%'\n",
      " '0']\n",
      "['March' '0' '0' '0' '0' '13%' '13%' '14%' '14%' '0' '0' '< 1%' '< 1%' '0']\n",
      "['April' '0' '0' '0' '0' '14%' '14%' '16%' '16%' '0' '0' '< 1%' '< 1%' '0']\n",
      "['May' '0' '0' '0' '0' '14%' '14%' '15%' '15%' '0' '0' '< 1%' '< 1%' '0']\n",
      "['June' '0' '0' '0' '0' '16%' '16%' '17%' '17%' '0' '0' '< 1%' '< 1%' '0']\n",
      "['July' '0' '0' '0' '0' '16%' '16%' '16%' '16%' '0' '0' '< 1%' '< 1%' '0']\n",
      "['August' '0' '0' '0' '0' '15%' '15%' '16%' '16%' '0' '0' '< 1%' '< 1%'\n",
      " '0']\n",
      "['September' '0' '0' '0' '0' '15%' '15%' '16%' '16%' '0' '0' '< 1%' '< 1%'\n",
      " '0']\n",
      "['October' '0' '0' '0' '0' '15%' '15%' '16%' '16%' '0' '0' '< 1%' '< 1%'\n",
      " '0']\n",
      "['November' '0' '0' '0' '0' '15%' '15%' '15%' '15%' '0' '0' '< 1%' '< 1%'\n",
      " '0']\n"
     ]
    }
   ],
   "source": [
    "#7\n",
    "check_NAN(original_data, \"NaN_Percentages_Orig.csv\")"
   ]
  },
  {
   "cell_type": "markdown",
   "metadata": {},
   "source": [
    "Drop the columns with NAN values, and convert the started and ended at to datetime."
   ]
  },
  {
   "cell_type": "code",
   "execution_count": 222,
   "metadata": {},
   "outputs": [],
   "source": [
    "#8\n",
    "# 1st phase of clean data with the ended_before_started column to be able to see and count the entries where this is True\n",
    "def clean_data1(dataset):\n",
    "    col_to_drop = ['ride_id', 'start_station_name', 'start_station_id', 'end_station_name', 'end_station_id', 'start_lat', 'start_lng', 'end_lat', 'end_lng']\n",
    "    clean_data = {}\n",
    "    ended_before_started = {}\n",
    "\n",
    "    for month, df in dataset.items():\n",
    "        clean_data[month] = df.drop(columns = col_to_drop) # drop columns\n",
    "        \n",
    "        # convert columns to datetime \n",
    "        clean_data[month].started_at = pd.to_datetime(df['started_at'])\n",
    "        clean_data[month].ended_at   = pd.to_datetime(df['ended_at'])\n",
    "\n",
    "        # create series of flags == True if started > before \n",
    "        ended_before_started[month] = clean_data[month].started_at > clean_data[month].ended_at\n",
    "        \n",
    "    return clean_data, ended_before_started"
   ]
  },
  {
   "cell_type": "code",
   "execution_count": 244,
   "metadata": {},
   "outputs": [],
   "source": [
    "#9\n",
    "cleaned_data1, ended_before_started = clean_data1(original_data)"
   ]
  },
  {
   "cell_type": "code",
   "execution_count": 239,
   "metadata": {},
   "outputs": [
    {
     "name": "stdout",
     "output_type": "stream",
     "text": [
      "<class 'pandas.core.frame.DataFrame'>\n",
      "RangeIndex: 190301 entries, 0 to 190300\n",
      "Data columns (total 4 columns):\n",
      " #   Column         Non-Null Count   Dtype         \n",
      "---  ------         --------------   -----         \n",
      " 0   rideable_type  190301 non-null  object        \n",
      " 1   started_at     190301 non-null  datetime64[ns]\n",
      " 2   ended_at       190301 non-null  datetime64[ns]\n",
      " 3   member_casual  190301 non-null  object        \n",
      "dtypes: datetime64[ns](2), object(2)\n",
      "memory usage: 5.8+ MB\n"
     ]
    },
    {
     "data": {
      "text/html": [
       "<div>\n",
       "<style scoped>\n",
       "    .dataframe tbody tr th:only-of-type {\n",
       "        vertical-align: middle;\n",
       "    }\n",
       "\n",
       "    .dataframe tbody tr th {\n",
       "        vertical-align: top;\n",
       "    }\n",
       "\n",
       "    .dataframe thead th {\n",
       "        text-align: right;\n",
       "    }\n",
       "</style>\n",
       "<table border=\"1\" class=\"dataframe\">\n",
       "  <thead>\n",
       "    <tr style=\"text-align: right;\">\n",
       "      <th></th>\n",
       "      <th>rideable_type</th>\n",
       "      <th>started_at</th>\n",
       "      <th>ended_at</th>\n",
       "      <th>member_casual</th>\n",
       "    </tr>\n",
       "  </thead>\n",
       "  <tbody>\n",
       "    <tr>\n",
       "      <th>0</th>\n",
       "      <td>electric_bike</td>\n",
       "      <td>2023-01-21 20:05:42</td>\n",
       "      <td>2023-01-21 20:16:33</td>\n",
       "      <td>member</td>\n",
       "    </tr>\n",
       "    <tr>\n",
       "      <th>1</th>\n",
       "      <td>classic_bike</td>\n",
       "      <td>2023-01-10 15:37:36</td>\n",
       "      <td>2023-01-10 15:46:05</td>\n",
       "      <td>member</td>\n",
       "    </tr>\n",
       "    <tr>\n",
       "      <th>2</th>\n",
       "      <td>electric_bike</td>\n",
       "      <td>2023-01-02 07:51:57</td>\n",
       "      <td>2023-01-02 08:05:11</td>\n",
       "      <td>casual</td>\n",
       "    </tr>\n",
       "    <tr>\n",
       "      <th>3</th>\n",
       "      <td>classic_bike</td>\n",
       "      <td>2023-01-22 10:52:58</td>\n",
       "      <td>2023-01-22 11:01:44</td>\n",
       "      <td>member</td>\n",
       "    </tr>\n",
       "    <tr>\n",
       "      <th>4</th>\n",
       "      <td>classic_bike</td>\n",
       "      <td>2023-01-12 13:58:01</td>\n",
       "      <td>2023-01-12 14:13:20</td>\n",
       "      <td>member</td>\n",
       "    </tr>\n",
       "  </tbody>\n",
       "</table>\n",
       "</div>"
      ],
      "text/plain": [
       "   rideable_type          started_at            ended_at member_casual\n",
       "0  electric_bike 2023-01-21 20:05:42 2023-01-21 20:16:33        member\n",
       "1   classic_bike 2023-01-10 15:37:36 2023-01-10 15:46:05        member\n",
       "2  electric_bike 2023-01-02 07:51:57 2023-01-02 08:05:11        casual\n",
       "3   classic_bike 2023-01-22 10:52:58 2023-01-22 11:01:44        member\n",
       "4   classic_bike 2023-01-12 13:58:01 2023-01-12 14:13:20        member"
      ]
     },
     "execution_count": 239,
     "metadata": {},
     "output_type": "execute_result"
    }
   ],
   "source": [
    "cleaned_data1['January'].info()\n",
    "cleaned_data1['January'].head()"
   ]
  },
  {
   "cell_type": "code",
   "execution_count": 225,
   "metadata": {},
   "outputs": [
    {
     "data": {
      "text/html": [
       "<div>\n",
       "<style scoped>\n",
       "    .dataframe tbody tr th:only-of-type {\n",
       "        vertical-align: middle;\n",
       "    }\n",
       "\n",
       "    .dataframe tbody tr th {\n",
       "        vertical-align: top;\n",
       "    }\n",
       "\n",
       "    .dataframe thead th {\n",
       "        text-align: right;\n",
       "    }\n",
       "</style>\n",
       "<table border=\"1\" class=\"dataframe\">\n",
       "  <thead>\n",
       "    <tr style=\"text-align: right;\">\n",
       "      <th></th>\n",
       "      <th>rideable_type</th>\n",
       "      <th>started_at</th>\n",
       "      <th>ended_at</th>\n",
       "      <th>member_casual</th>\n",
       "    </tr>\n",
       "  </thead>\n",
       "  <tbody>\n",
       "    <tr>\n",
       "      <th>8308</th>\n",
       "      <td>classic_bike</td>\n",
       "      <td>2023-05-29 17:34:21</td>\n",
       "      <td>2023-05-29 17:34:09</td>\n",
       "      <td>member</td>\n",
       "    </tr>\n",
       "    <tr>\n",
       "      <th>38552</th>\n",
       "      <td>electric_bike</td>\n",
       "      <td>2023-05-29 16:57:34</td>\n",
       "      <td>2023-05-29 16:57:27</td>\n",
       "      <td>casual</td>\n",
       "    </tr>\n",
       "    <tr>\n",
       "      <th>103546</th>\n",
       "      <td>electric_bike</td>\n",
       "      <td>2023-05-26 15:39:47</td>\n",
       "      <td>2023-05-26 15:38:17</td>\n",
       "      <td>member</td>\n",
       "    </tr>\n",
       "    <tr>\n",
       "      <th>103547</th>\n",
       "      <td>electric_bike</td>\n",
       "      <td>2023-05-26 15:38:53</td>\n",
       "      <td>2023-05-26 15:38:17</td>\n",
       "      <td>member</td>\n",
       "    </tr>\n",
       "    <tr>\n",
       "      <th>209340</th>\n",
       "      <td>classic_bike</td>\n",
       "      <td>2023-05-07 15:54:58</td>\n",
       "      <td>2023-05-07 15:54:47</td>\n",
       "      <td>casual</td>\n",
       "    </tr>\n",
       "    <tr>\n",
       "      <th>211708</th>\n",
       "      <td>classic_bike</td>\n",
       "      <td>2023-05-23 17:39:38</td>\n",
       "      <td>2023-05-23 17:39:35</td>\n",
       "      <td>casual</td>\n",
       "    </tr>\n",
       "    <tr>\n",
       "      <th>216859</th>\n",
       "      <td>classic_bike</td>\n",
       "      <td>2023-05-13 18:08:15</td>\n",
       "      <td>2023-05-13 18:08:09</td>\n",
       "      <td>member</td>\n",
       "    </tr>\n",
       "    <tr>\n",
       "      <th>336480</th>\n",
       "      <td>electric_bike</td>\n",
       "      <td>2023-05-29 11:31:41</td>\n",
       "      <td>2023-05-29 11:31:33</td>\n",
       "      <td>member</td>\n",
       "    </tr>\n",
       "    <tr>\n",
       "      <th>417351</th>\n",
       "      <td>classic_bike</td>\n",
       "      <td>2023-05-27 05:31:51</td>\n",
       "      <td>2023-05-27 05:31:37</td>\n",
       "      <td>member</td>\n",
       "    </tr>\n",
       "    <tr>\n",
       "      <th>456170</th>\n",
       "      <td>electric_bike</td>\n",
       "      <td>2023-05-30 07:40:55</td>\n",
       "      <td>2023-05-30 07:39:58</td>\n",
       "      <td>member</td>\n",
       "    </tr>\n",
       "  </tbody>\n",
       "</table>\n",
       "</div>"
      ],
      "text/plain": [
       "        rideable_type          started_at            ended_at member_casual\n",
       "8308     classic_bike 2023-05-29 17:34:21 2023-05-29 17:34:09        member\n",
       "38552   electric_bike 2023-05-29 16:57:34 2023-05-29 16:57:27        casual\n",
       "103546  electric_bike 2023-05-26 15:39:47 2023-05-26 15:38:17        member\n",
       "103547  electric_bike 2023-05-26 15:38:53 2023-05-26 15:38:17        member\n",
       "209340   classic_bike 2023-05-07 15:54:58 2023-05-07 15:54:47        casual\n",
       "211708   classic_bike 2023-05-23 17:39:38 2023-05-23 17:39:35        casual\n",
       "216859   classic_bike 2023-05-13 18:08:15 2023-05-13 18:08:09        member\n",
       "336480  electric_bike 2023-05-29 11:31:41 2023-05-29 11:31:33        member\n",
       "417351   classic_bike 2023-05-27 05:31:51 2023-05-27 05:31:37        member\n",
       "456170  electric_bike 2023-05-30 07:40:55 2023-05-30 07:39:58        member"
      ]
     },
     "execution_count": 225,
     "metadata": {},
     "output_type": "execute_result"
    }
   ],
   "source": [
    "month = 'May'\n",
    "cleaned_data1[month][ended_before_started[month]]"
   ]
  },
  {
   "cell_type": "code",
   "execution_count": 226,
   "metadata": {},
   "outputs": [
    {
     "name": "stdout",
     "output_type": "stream",
     "text": [
      "[0, 1, 0, 4, 10, 7, 30, 60, 50, 36, 64] 262\n"
     ]
    }
   ],
   "source": [
    "# calculates total number of entries where ended_before_started == True\n",
    "total = []\n",
    "for month, df in cleaned_data1.items():\n",
    "    total.append(ended_before_started[month].sum())\n",
    "\n",
    "print(total, sum(total)) "
   ]
  },
  {
   "cell_type": "code",
   "execution_count": 227,
   "metadata": {},
   "outputs": [],
   "source": [
    "#10\n",
    "#2nd phase of clean data that will drop the rows where ended > started\n",
    "def clean_data2(dataset, flag):\n",
    "    clean_data = {}\n",
    "\n",
    "    for month, df in dataset.items():\n",
    "        # copy over entries that have ended after started\n",
    "        clean_data[month] = df[flag[month] == False]\n",
    "        \n",
    "    return clean_data"
   ]
  },
  {
   "cell_type": "code",
   "execution_count": 245,
   "metadata": {},
   "outputs": [],
   "source": [
    "#11\n",
    "cleaned_data = clean_data2(cleaned_data1, ended_before_started)"
   ]
  },
  {
   "cell_type": "code",
   "execution_count": 246,
   "metadata": {},
   "outputs": [
    {
     "data": {
      "text/html": [
       "<div>\n",
       "<style scoped>\n",
       "    .dataframe tbody tr th:only-of-type {\n",
       "        vertical-align: middle;\n",
       "    }\n",
       "\n",
       "    .dataframe tbody tr th {\n",
       "        vertical-align: top;\n",
       "    }\n",
       "\n",
       "    .dataframe thead th {\n",
       "        text-align: right;\n",
       "    }\n",
       "</style>\n",
       "<table border=\"1\" class=\"dataframe\">\n",
       "  <thead>\n",
       "    <tr style=\"text-align: right;\">\n",
       "      <th></th>\n",
       "      <th>rideable_type</th>\n",
       "      <th>started_at</th>\n",
       "      <th>ended_at</th>\n",
       "      <th>member_casual</th>\n",
       "    </tr>\n",
       "  </thead>\n",
       "  <tbody>\n",
       "    <tr>\n",
       "      <th>0</th>\n",
       "      <td>electric_bike</td>\n",
       "      <td>2023-05-07 19:53:48</td>\n",
       "      <td>2023-05-07 19:58:32</td>\n",
       "      <td>member</td>\n",
       "    </tr>\n",
       "    <tr>\n",
       "      <th>1</th>\n",
       "      <td>electric_bike</td>\n",
       "      <td>2023-05-06 18:54:08</td>\n",
       "      <td>2023-05-06 19:03:35</td>\n",
       "      <td>member</td>\n",
       "    </tr>\n",
       "    <tr>\n",
       "      <th>2</th>\n",
       "      <td>electric_bike</td>\n",
       "      <td>2023-05-21 00:40:21</td>\n",
       "      <td>2023-05-21 00:44:36</td>\n",
       "      <td>member</td>\n",
       "    </tr>\n",
       "    <tr>\n",
       "      <th>3</th>\n",
       "      <td>classic_bike</td>\n",
       "      <td>2023-05-10 16:47:01</td>\n",
       "      <td>2023-05-10 16:59:52</td>\n",
       "      <td>member</td>\n",
       "    </tr>\n",
       "    <tr>\n",
       "      <th>4</th>\n",
       "      <td>classic_bike</td>\n",
       "      <td>2023-05-09 18:30:34</td>\n",
       "      <td>2023-05-09 18:39:28</td>\n",
       "      <td>member</td>\n",
       "    </tr>\n",
       "    <tr>\n",
       "      <th>...</th>\n",
       "      <td>...</td>\n",
       "      <td>...</td>\n",
       "      <td>...</td>\n",
       "      <td>...</td>\n",
       "    </tr>\n",
       "    <tr>\n",
       "      <th>604822</th>\n",
       "      <td>electric_bike</td>\n",
       "      <td>2023-05-18 10:26:43</td>\n",
       "      <td>2023-05-18 10:48:00</td>\n",
       "      <td>member</td>\n",
       "    </tr>\n",
       "    <tr>\n",
       "      <th>604823</th>\n",
       "      <td>electric_bike</td>\n",
       "      <td>2023-05-17 14:32:48</td>\n",
       "      <td>2023-05-17 14:45:37</td>\n",
       "      <td>member</td>\n",
       "    </tr>\n",
       "    <tr>\n",
       "      <th>604824</th>\n",
       "      <td>electric_bike</td>\n",
       "      <td>2023-05-17 07:59:29</td>\n",
       "      <td>2023-05-17 08:04:54</td>\n",
       "      <td>member</td>\n",
       "    </tr>\n",
       "    <tr>\n",
       "      <th>604825</th>\n",
       "      <td>electric_bike</td>\n",
       "      <td>2023-05-18 08:34:48</td>\n",
       "      <td>2023-05-18 08:38:40</td>\n",
       "      <td>member</td>\n",
       "    </tr>\n",
       "    <tr>\n",
       "      <th>604826</th>\n",
       "      <td>electric_bike</td>\n",
       "      <td>2023-05-29 21:16:58</td>\n",
       "      <td>2023-05-29 21:24:35</td>\n",
       "      <td>member</td>\n",
       "    </tr>\n",
       "  </tbody>\n",
       "</table>\n",
       "<p>604817 rows × 4 columns</p>\n",
       "</div>"
      ],
      "text/plain": [
       "        rideable_type          started_at            ended_at member_casual\n",
       "0       electric_bike 2023-05-07 19:53:48 2023-05-07 19:58:32        member\n",
       "1       electric_bike 2023-05-06 18:54:08 2023-05-06 19:03:35        member\n",
       "2       electric_bike 2023-05-21 00:40:21 2023-05-21 00:44:36        member\n",
       "3        classic_bike 2023-05-10 16:47:01 2023-05-10 16:59:52        member\n",
       "4        classic_bike 2023-05-09 18:30:34 2023-05-09 18:39:28        member\n",
       "...               ...                 ...                 ...           ...\n",
       "604822  electric_bike 2023-05-18 10:26:43 2023-05-18 10:48:00        member\n",
       "604823  electric_bike 2023-05-17 14:32:48 2023-05-17 14:45:37        member\n",
       "604824  electric_bike 2023-05-17 07:59:29 2023-05-17 08:04:54        member\n",
       "604825  electric_bike 2023-05-18 08:34:48 2023-05-18 08:38:40        member\n",
       "604826  electric_bike 2023-05-29 21:16:58 2023-05-29 21:24:35        member\n",
       "\n",
       "[604817 rows x 4 columns]"
      ]
     },
     "execution_count": 246,
     "metadata": {},
     "output_type": "execute_result"
    }
   ],
   "source": [
    "cleaned_data['May']"
   ]
  },
  {
   "cell_type": "code",
   "execution_count": 229,
   "metadata": {},
   "outputs": [
    {
     "name": "stdout",
     "output_type": "stream",
     "text": [
      "For January:(190301, 4)\n",
      "For February:(190444, 4)\n",
      "For March:(258678, 4)\n",
      "For April:(426586, 4)\n",
      "For May:(604817, 4)\n",
      "For June:(719611, 4)\n",
      "For July:(767620, 4)\n",
      "For August:(771633, 4)\n",
      "For September:(666321, 4)\n",
      "For October:(537077, 4)\n",
      "For November:(362454, 4)\n",
      "Average number of entries per file: 499594\n",
      "Total number of entries across all files: 5495542\n"
     ]
    }
   ],
   "source": [
    "#12\n",
    "# check no of columns and entries after removing\n",
    "count_entries(cleaned_data, \"BikeRides_Cleaned.csv\", False)"
   ]
  },
  {
   "cell_type": "code",
   "execution_count": 230,
   "metadata": {},
   "outputs": [
    {
     "name": "stdout",
     "output_type": "stream",
     "text": [
      "['January' '0' '0' '0' '0']\n",
      "['February' '0' '0' '0' '0']\n",
      "['March' '0' '0' '0' '0']\n",
      "['April' '0' '0' '0' '0']\n",
      "['May' '0' '0' '0' '0']\n",
      "['June' '0' '0' '0' '0']\n",
      "['July' '0' '0' '0' '0']\n",
      "['August' '0' '0' '0' '0']\n",
      "['September' '0' '0' '0' '0']\n",
      "['October' '0' '0' '0' '0']\n",
      "['November' '0' '0' '0' '0']\n"
     ]
    }
   ],
   "source": [
    "#13\n",
    "check_NAN(cleaned_data, \"NaN_Percentages_Clean.csv\")"
   ]
  },
  {
   "cell_type": "markdown",
   "metadata": {},
   "source": [
    "# Preparation:"
   ]
  },
  {
   "cell_type": "code",
   "execution_count": 231,
   "metadata": {},
   "outputs": [],
   "source": [
    "#14\n",
    "# converts seconds into HH:MM:SS format if days == False, else DD days HH:MM:SS if days == True\n",
    "def format_time(seconds, days= False):\n",
    "    min, sec    = divmod(seconds, 60)\n",
    "    hour, min   = divmod(min, 60)\n",
    "\n",
    "    if days:\n",
    "        day, hour   = divmod(hour, 24)\n",
    "        if day == 1:\n",
    "            return '%d day %d:%02d:%02d' % (day, hour, min, sec)\n",
    "        elif day > 1:\n",
    "            return '%d days %d:%02d:%02d' % (day, hour, min, sec)\n",
    "    \n",
    "    return '%d:%02d:%02d' % (hour, min, sec)"
   ]
  },
  {
   "cell_type": "code",
   "execution_count": 248,
   "metadata": {},
   "outputs": [],
   "source": [
    "#15\n",
    "# add the columns ride_length and day_of_week\n",
    "def prepare_data(dataset):\n",
    "    # make a copy of the dataset in case we want to late compare something\n",
    "    prepared_data = copy.deepcopy(dataset)\n",
    "\n",
    "    for _, df in prepared_data.items():\n",
    "        if 'ride_length' not in df:\n",
    "            length =  df.ended_at - df.started_at # this has unit of timedelta, which we cannot use later to aggregate mean\n",
    "            length = length.dt.seconds + length.dt.days*24*3600 # now we convert it to seconds\n",
    "            df.insert(len(df.columns), \"ride_length\", length)\n",
    "        else: \n",
    "            print(\"Column ride_length already exists\")\n",
    "        \n",
    "        if 'day_of_week' not in df:\n",
    "            df.insert(len(df.columns), \"day_of_week\", df.started_at.dt.day_name())\n",
    "        else: \n",
    "            print(\"Column day_of_week already exists\")\n",
    "        \n",
    "    return prepared_data"
   ]
  },
  {
   "cell_type": "code",
   "execution_count": 196,
   "metadata": {},
   "outputs": [
    {
     "name": "stdout",
     "output_type": "stream",
     "text": [
      "20 days 06:50:31 486:50:31\n"
     ]
    }
   ],
   "source": [
    "df = cleaned_data[\"May\"]\n",
    "diff = (df.ended_at - df.started_at)\n",
    "a_col = diff.dt.seconds + diff.dt.days*24*3600\n",
    "print(diff.max(), format_time(a_col.max()))"
   ]
  },
  {
   "cell_type": "code",
   "execution_count": 249,
   "metadata": {},
   "outputs": [],
   "source": [
    "#16\n",
    "prepared_data = prepare_data(cleaned_data)"
   ]
  },
  {
   "cell_type": "code",
   "execution_count": 233,
   "metadata": {},
   "outputs": [
    {
     "name": "stdout",
     "output_type": "stream",
     "text": [
      "<class 'pandas.core.frame.DataFrame'>\n",
      "Int64Index: 604817 entries, 0 to 604826\n",
      "Data columns (total 6 columns):\n",
      " #   Column         Non-Null Count   Dtype         \n",
      "---  ------         --------------   -----         \n",
      " 0   rideable_type  604817 non-null  object        \n",
      " 1   started_at     604817 non-null  datetime64[ns]\n",
      " 2   ended_at       604817 non-null  datetime64[ns]\n",
      " 3   member_casual  604817 non-null  object        \n",
      " 4   ride_length    604817 non-null  int64         \n",
      " 5   day_of_week    604817 non-null  object        \n",
      "dtypes: datetime64[ns](2), int64(1), object(3)\n",
      "memory usage: 32.3+ MB\n"
     ]
    }
   ],
   "source": [
    "prepared_data['May'].info()"
   ]
  },
  {
   "cell_type": "code",
   "execution_count": 253,
   "metadata": {},
   "outputs": [
    {
     "data": {
      "text/html": [
       "<div>\n",
       "<style scoped>\n",
       "    .dataframe tbody tr th:only-of-type {\n",
       "        vertical-align: middle;\n",
       "    }\n",
       "\n",
       "    .dataframe tbody tr th {\n",
       "        vertical-align: top;\n",
       "    }\n",
       "\n",
       "    .dataframe thead th {\n",
       "        text-align: right;\n",
       "    }\n",
       "</style>\n",
       "<table border=\"1\" class=\"dataframe\">\n",
       "  <thead>\n",
       "    <tr style=\"text-align: right;\">\n",
       "      <th></th>\n",
       "      <th>rideable_type</th>\n",
       "      <th>started_at</th>\n",
       "      <th>ended_at</th>\n",
       "      <th>member_casual</th>\n",
       "      <th>ride_length</th>\n",
       "      <th>day_of_week</th>\n",
       "    </tr>\n",
       "  </thead>\n",
       "  <tbody>\n",
       "    <tr>\n",
       "      <th>0</th>\n",
       "      <td>electric_bike</td>\n",
       "      <td>2023-05-07 19:53:48</td>\n",
       "      <td>2023-05-07 19:58:32</td>\n",
       "      <td>member</td>\n",
       "      <td>284</td>\n",
       "      <td>Sunday</td>\n",
       "    </tr>\n",
       "    <tr>\n",
       "      <th>1</th>\n",
       "      <td>electric_bike</td>\n",
       "      <td>2023-05-06 18:54:08</td>\n",
       "      <td>2023-05-06 19:03:35</td>\n",
       "      <td>member</td>\n",
       "      <td>567</td>\n",
       "      <td>Saturday</td>\n",
       "    </tr>\n",
       "    <tr>\n",
       "      <th>2</th>\n",
       "      <td>electric_bike</td>\n",
       "      <td>2023-05-21 00:40:21</td>\n",
       "      <td>2023-05-21 00:44:36</td>\n",
       "      <td>member</td>\n",
       "      <td>255</td>\n",
       "      <td>Sunday</td>\n",
       "    </tr>\n",
       "    <tr>\n",
       "      <th>3</th>\n",
       "      <td>classic_bike</td>\n",
       "      <td>2023-05-10 16:47:01</td>\n",
       "      <td>2023-05-10 16:59:52</td>\n",
       "      <td>member</td>\n",
       "      <td>771</td>\n",
       "      <td>Wednesday</td>\n",
       "    </tr>\n",
       "    <tr>\n",
       "      <th>4</th>\n",
       "      <td>classic_bike</td>\n",
       "      <td>2023-05-09 18:30:34</td>\n",
       "      <td>2023-05-09 18:39:28</td>\n",
       "      <td>member</td>\n",
       "      <td>534</td>\n",
       "      <td>Tuesday</td>\n",
       "    </tr>\n",
       "    <tr>\n",
       "      <th>...</th>\n",
       "      <td>...</td>\n",
       "      <td>...</td>\n",
       "      <td>...</td>\n",
       "      <td>...</td>\n",
       "      <td>...</td>\n",
       "      <td>...</td>\n",
       "    </tr>\n",
       "    <tr>\n",
       "      <th>604822</th>\n",
       "      <td>electric_bike</td>\n",
       "      <td>2023-05-18 10:26:43</td>\n",
       "      <td>2023-05-18 10:48:00</td>\n",
       "      <td>member</td>\n",
       "      <td>1277</td>\n",
       "      <td>Thursday</td>\n",
       "    </tr>\n",
       "    <tr>\n",
       "      <th>604823</th>\n",
       "      <td>electric_bike</td>\n",
       "      <td>2023-05-17 14:32:48</td>\n",
       "      <td>2023-05-17 14:45:37</td>\n",
       "      <td>member</td>\n",
       "      <td>769</td>\n",
       "      <td>Wednesday</td>\n",
       "    </tr>\n",
       "    <tr>\n",
       "      <th>604824</th>\n",
       "      <td>electric_bike</td>\n",
       "      <td>2023-05-17 07:59:29</td>\n",
       "      <td>2023-05-17 08:04:54</td>\n",
       "      <td>member</td>\n",
       "      <td>325</td>\n",
       "      <td>Wednesday</td>\n",
       "    </tr>\n",
       "    <tr>\n",
       "      <th>604825</th>\n",
       "      <td>electric_bike</td>\n",
       "      <td>2023-05-18 08:34:48</td>\n",
       "      <td>2023-05-18 08:38:40</td>\n",
       "      <td>member</td>\n",
       "      <td>232</td>\n",
       "      <td>Thursday</td>\n",
       "    </tr>\n",
       "    <tr>\n",
       "      <th>604826</th>\n",
       "      <td>electric_bike</td>\n",
       "      <td>2023-05-29 21:16:58</td>\n",
       "      <td>2023-05-29 21:24:35</td>\n",
       "      <td>member</td>\n",
       "      <td>457</td>\n",
       "      <td>Monday</td>\n",
       "    </tr>\n",
       "  </tbody>\n",
       "</table>\n",
       "<p>604817 rows × 6 columns</p>\n",
       "</div>"
      ],
      "text/plain": [
       "        rideable_type          started_at            ended_at member_casual  \\\n",
       "0       electric_bike 2023-05-07 19:53:48 2023-05-07 19:58:32        member   \n",
       "1       electric_bike 2023-05-06 18:54:08 2023-05-06 19:03:35        member   \n",
       "2       electric_bike 2023-05-21 00:40:21 2023-05-21 00:44:36        member   \n",
       "3        classic_bike 2023-05-10 16:47:01 2023-05-10 16:59:52        member   \n",
       "4        classic_bike 2023-05-09 18:30:34 2023-05-09 18:39:28        member   \n",
       "...               ...                 ...                 ...           ...   \n",
       "604822  electric_bike 2023-05-18 10:26:43 2023-05-18 10:48:00        member   \n",
       "604823  electric_bike 2023-05-17 14:32:48 2023-05-17 14:45:37        member   \n",
       "604824  electric_bike 2023-05-17 07:59:29 2023-05-17 08:04:54        member   \n",
       "604825  electric_bike 2023-05-18 08:34:48 2023-05-18 08:38:40        member   \n",
       "604826  electric_bike 2023-05-29 21:16:58 2023-05-29 21:24:35        member   \n",
       "\n",
       "        ride_length day_of_week  \n",
       "0               284      Sunday  \n",
       "1               567    Saturday  \n",
       "2               255      Sunday  \n",
       "3               771   Wednesday  \n",
       "4               534     Tuesday  \n",
       "...             ...         ...  \n",
       "604822         1277    Thursday  \n",
       "604823          769   Wednesday  \n",
       "604824          325   Wednesday  \n",
       "604825          232    Thursday  \n",
       "604826          457      Monday  \n",
       "\n",
       "[604817 rows x 6 columns]"
      ]
     },
     "execution_count": 253,
     "metadata": {},
     "output_type": "execute_result"
    }
   ],
   "source": [
    "prepared_data['May']\n",
    "#cleaned_data['May']\n",
    "#original_data['May']"
   ]
  },
  {
   "cell_type": "code",
   "execution_count": 267,
   "metadata": {},
   "outputs": [
    {
     "name": "stdout",
     "output_type": "stream",
     "text": [
      "Orig val:  1142.0330099848384\n",
      "Formated val:  0:19:02\n",
      "Formated val with seconds, days:  0:19:02\n",
      "Also mode:  Tuesday\n"
     ]
    }
   ],
   "source": [
    "# testing of the method format_time\n",
    "or_val = prepared_data[\"May\"].ride_length.mean()\n",
    "print(\"Orig val: \",or_val)\n",
    "print(\"Formated val: \",format_time(or_val))\n",
    "print(\"Formated val with seconds, days: \",format_time(or_val, True))"
   ]
  },
  {
   "cell_type": "code",
   "execution_count": 316,
   "metadata": {},
   "outputs": [
    {
     "name": "stdout",
     "output_type": "stream",
     "text": [
      "member_casual\n",
      "casual    1711.211873\n",
      "member     782.413089\n",
      "Name: ride_length, dtype: float64\n",
      "0:28:31\n",
      "0:13:02\n",
      "Also mode:  member_casual\n",
      "casual     Sunday\n",
      "member    Tuesday\n",
      "Name: day_of_week, dtype: object\n"
     ]
    }
   ],
   "source": [
    "# for each rider type, what was the mean of ride_legnth\n",
    "print(prepared_data[\"May\"].groupby(\"member_casual\")['ride_length'].mean())\n",
    "print(format_time(prepared_data[\"May\"].groupby(\"member_casual\").ride_length.mean()[0]))\n",
    "print(format_time(prepared_data[\"May\"].groupby(\"member_casual\").ride_length.mean()[1]))\n",
    "print(\"Also mode: \", prepared_data[\"May\"].groupby(\"member_casual\").day_of_week.apply(lambda x: x.mode()[0])\n",
    ")"
   ]
  },
  {
   "cell_type": "markdown",
   "metadata": {},
   "source": [
    "Now we want to calculate statistics like mean, max and mode:"
   ]
  },
  {
   "cell_type": "code",
   "execution_count": 332,
   "metadata": {},
   "outputs": [],
   "source": [
    "#17\n",
    "def get_statistics(dataset, filename):\n",
    "\n",
    "    with open(filename, 'w', newline='') as file:\n",
    "        writer = csv.writer(file)\n",
    "    \n",
    "        writer.writerow([\"Month\", \"Mean Ride Length\", \"Max Ride Length\", \"Mode of Day of Week\"])\n",
    "\n",
    "        meanlist, maxlist, modelist = [], [], []\n",
    "\n",
    "        for month, df in dataset.items():\n",
    "\n",
    "            mean_i, max_i, mode_i = df.ride_length.mean(), df.ride_length.max(), df.day_of_week.mode()[0]\n",
    "            # if the data is grouped, mode does not work\n",
    "            #mode_i = df.day_of_week.mode()[0] if split_by == \"\" else df.day_of_week.apply(lambda x: x.mode()[0])\n",
    "\n",
    "            meanlist.append(mean_i)\n",
    "            maxlist.append(max_i)\n",
    "            modelist.append(mode_i)\n",
    "\n",
    "            writer.writerow([month, format_time(mean_i), format_time(max_i, True), mode_i])\n",
    "            print([month, mean_i, max_i, mode_i])\n",
    "        \n",
    "        writer.writerow([\"\"])\n",
    "        writer.writerow([\"Across Whole Year\", format_time(mean(meanlist)), format_time(max(maxlist), True), mode(modelist)])\n",
    "        print([\"Across Whole Year\", format_time(mean(meanlist)), format_time(max(maxlist), True), mode(modelist)])\n",
    "    return"
   ]
  },
  {
   "cell_type": "code",
   "execution_count": 333,
   "metadata": {},
   "outputs": [
    {
     "name": "stdout",
     "output_type": "stream",
     "text": [
      "['January', 780.0518809675199, 2016224, 'Tuesday']\n",
      "['February', 811.9699386696352, 1131946, 'Tuesday']\n",
      "['March', 784.8030176512884, 1008484, 'Wednesday']\n",
      "['April', 1032.6515825648287, 1103729, 'Saturday']\n",
      "['May', 1142.0330099848384, 1752631, 'Tuesday']\n",
      "['June', 1199.0586191706352, 1767958, 'Friday']\n",
      "['July', 1304.3316614991793, 3087684, 'Saturday']\n",
      "['August', 1345.825765616556, 5909344, 'Wednesday']\n",
      "['September', 1072.384961602591, 90466, 'Saturday']\n",
      "['October', 941.1238928496286, 89997, 'Tuesday']\n",
      "['November', 829.9839731386603, 90025, 'Thursday']\n",
      "['Across Whole Year', '0:17:02', '68 days 9:29:04', 'Tuesday']\n"
     ]
    }
   ],
   "source": [
    "#18\n",
    "get_statistics(prepared_data, \"Mean_Max_Mode.csv\")"
   ]
  },
  {
   "cell_type": "code",
   "execution_count": 337,
   "metadata": {},
   "outputs": [
    {
     "data": {
      "text/html": [
       "<div>\n",
       "<style scoped>\n",
       "    .dataframe tbody tr th:only-of-type {\n",
       "        vertical-align: middle;\n",
       "    }\n",
       "\n",
       "    .dataframe tbody tr th {\n",
       "        vertical-align: top;\n",
       "    }\n",
       "\n",
       "    .dataframe thead th {\n",
       "        text-align: right;\n",
       "    }\n",
       "</style>\n",
       "<table border=\"1\" class=\"dataframe\">\n",
       "  <thead>\n",
       "    <tr style=\"text-align: right;\">\n",
       "      <th></th>\n",
       "      <th>ride_length</th>\n",
       "    </tr>\n",
       "    <tr>\n",
       "      <th>member_casual</th>\n",
       "      <th></th>\n",
       "    </tr>\n",
       "  </thead>\n",
       "  <tbody>\n",
       "    <tr>\n",
       "      <th>casual</th>\n",
       "      <td>1711.211873</td>\n",
       "    </tr>\n",
       "    <tr>\n",
       "      <th>member</th>\n",
       "      <td>782.413089</td>\n",
       "    </tr>\n",
       "  </tbody>\n",
       "</table>\n",
       "</div>"
      ],
      "text/plain": [
       "               ride_length\n",
       "member_casual             \n",
       "casual         1711.211873\n",
       "member          782.413089"
      ]
     },
     "execution_count": 337,
     "metadata": {},
     "output_type": "execute_result"
    }
   ],
   "source": [
    "df = prepared_data[\"May\"]\n",
    "df.pivot_table(index = \"member_casual\", values=\"ride_length\")\n",
    "#df.pivot_table(index = \"member_casual\", columns=\"rideable_type\", values=\"ride_length\")"
   ]
  },
  {
   "cell_type": "code",
   "execution_count": 338,
   "metadata": {},
   "outputs": [],
   "source": [
    "# Create a multi-index DataFrame\n",
    "all_data = pd.concat(prepared_data.values(), keys=prepared_data.keys())"
   ]
  },
  {
   "cell_type": "code",
   "execution_count": 341,
   "metadata": {},
   "outputs": [
    {
     "ename": "DataError",
     "evalue": "No numeric types to aggregate",
     "output_type": "error",
     "traceback": [
      "\u001b[0;31m---------------------------------------------------------------------------\u001b[0m",
      "\u001b[0;31mDataError\u001b[0m                                 Traceback (most recent call last)",
      "\u001b[0;32m<ipython-input-341-b89d6dd22fbf>\u001b[0m in \u001b[0;36m<module>\u001b[0;34m\u001b[0m\n\u001b[1;32m      1\u001b[0m \u001b[0;31m#all_data.pivot_table(index = all_data.keys, values=\"ride_length\")\u001b[0m\u001b[0;34m\u001b[0m\u001b[0;34m\u001b[0m\u001b[0;34m\u001b[0m\u001b[0m\n\u001b[0;32m----> 2\u001b[0;31m \u001b[0mall_data\u001b[0m\u001b[0;34m.\u001b[0m\u001b[0mgroupby\u001b[0m\u001b[0;34m(\u001b[0m\u001b[0mlevel\u001b[0m\u001b[0;34m=\u001b[0m\u001b[0;36m0\u001b[0m\u001b[0;34m)\u001b[0m\u001b[0;34m[\u001b[0m\u001b[0;34m'member_casual'\u001b[0m\u001b[0;34m]\u001b[0m\u001b[0;34m.\u001b[0m\u001b[0mmean\u001b[0m\u001b[0;34m(\u001b[0m\u001b[0;34m)\u001b[0m\u001b[0;34m\u001b[0m\u001b[0;34m\u001b[0m\u001b[0m\n\u001b[0m",
      "\u001b[0;32m/opt/homebrew/anaconda3/lib/python3.8/site-packages/pandas/core/groupby/groupby.py\u001b[0m in \u001b[0;36mmean\u001b[0;34m(self, numeric_only)\u001b[0m\n\u001b[1;32m   1494\u001b[0m         \u001b[0mName\u001b[0m\u001b[0;34m:\u001b[0m \u001b[0mB\u001b[0m\u001b[0;34m,\u001b[0m \u001b[0mdtype\u001b[0m\u001b[0;34m:\u001b[0m \u001b[0mfloat64\u001b[0m\u001b[0;34m\u001b[0m\u001b[0;34m\u001b[0m\u001b[0m\n\u001b[1;32m   1495\u001b[0m         \"\"\"\n\u001b[0;32m-> 1496\u001b[0;31m         return self._cython_agg_general(\n\u001b[0m\u001b[1;32m   1497\u001b[0m             \u001b[0;34m\"mean\"\u001b[0m\u001b[0;34m,\u001b[0m\u001b[0;34m\u001b[0m\u001b[0;34m\u001b[0m\u001b[0m\n\u001b[1;32m   1498\u001b[0m             \u001b[0malt\u001b[0m\u001b[0;34m=\u001b[0m\u001b[0;32mlambda\u001b[0m \u001b[0mx\u001b[0m\u001b[0;34m,\u001b[0m \u001b[0maxis\u001b[0m\u001b[0;34m:\u001b[0m \u001b[0mSeries\u001b[0m\u001b[0;34m(\u001b[0m\u001b[0mx\u001b[0m\u001b[0;34m)\u001b[0m\u001b[0;34m.\u001b[0m\u001b[0mmean\u001b[0m\u001b[0;34m(\u001b[0m\u001b[0mnumeric_only\u001b[0m\u001b[0;34m=\u001b[0m\u001b[0mnumeric_only\u001b[0m\u001b[0;34m)\u001b[0m\u001b[0;34m,\u001b[0m\u001b[0;34m\u001b[0m\u001b[0;34m\u001b[0m\u001b[0m\n",
      "\u001b[0;32m/opt/homebrew/anaconda3/lib/python3.8/site-packages/pandas/core/groupby/groupby.py\u001b[0m in \u001b[0;36m_cython_agg_general\u001b[0;34m(self, how, alt, numeric_only, min_count)\u001b[0m\n\u001b[1;32m   1079\u001b[0m \u001b[0;34m\u001b[0m\u001b[0m\n\u001b[1;32m   1080\u001b[0m         \u001b[0;32mif\u001b[0m \u001b[0;32mnot\u001b[0m \u001b[0moutput\u001b[0m\u001b[0;34m:\u001b[0m\u001b[0;34m\u001b[0m\u001b[0;34m\u001b[0m\u001b[0m\n\u001b[0;32m-> 1081\u001b[0;31m             \u001b[0;32mraise\u001b[0m \u001b[0mDataError\u001b[0m\u001b[0;34m(\u001b[0m\u001b[0;34m\"No numeric types to aggregate\"\u001b[0m\u001b[0;34m)\u001b[0m\u001b[0;34m\u001b[0m\u001b[0;34m\u001b[0m\u001b[0m\n\u001b[0m\u001b[1;32m   1082\u001b[0m \u001b[0;34m\u001b[0m\u001b[0m\n\u001b[1;32m   1083\u001b[0m         \u001b[0;32mreturn\u001b[0m \u001b[0mself\u001b[0m\u001b[0;34m.\u001b[0m\u001b[0m_wrap_aggregated_output\u001b[0m\u001b[0;34m(\u001b[0m\u001b[0moutput\u001b[0m\u001b[0;34m,\u001b[0m \u001b[0mindex\u001b[0m\u001b[0;34m=\u001b[0m\u001b[0mself\u001b[0m\u001b[0;34m.\u001b[0m\u001b[0mgrouper\u001b[0m\u001b[0;34m.\u001b[0m\u001b[0mresult_index\u001b[0m\u001b[0;34m)\u001b[0m\u001b[0;34m\u001b[0m\u001b[0;34m\u001b[0m\u001b[0m\n",
      "\u001b[0;31mDataError\u001b[0m: No numeric types to aggregate"
     ]
    }
   ],
   "source": [
    "#all_data.pivot_table(index = all_data.keys, values=\"ride_length\")\n",
    "all_data.groupby(level=0).mean()"
   ]
  },
  {
   "cell_type": "code",
   "execution_count": null,
   "metadata": {},
   "outputs": [],
   "source": []
  }
 ],
 "metadata": {
  "kernelspec": {
   "display_name": "base",
   "language": "python",
   "name": "python3"
  },
  "language_info": {
   "codemirror_mode": {
    "name": "ipython",
    "version": 3
   },
   "file_extension": ".py",
   "mimetype": "text/x-python",
   "name": "python",
   "nbconvert_exporter": "python",
   "pygments_lexer": "ipython3",
   "version": "3.8.8"
  },
  "orig_nbformat": 4,
  "vscode": {
   "interpreter": {
    "hash": "38cca0c38332a56087b24af0bc80247f4fced29cb4f7f437d91dc159adec9c4e"
   }
  }
 },
 "nbformat": 4,
 "nbformat_minor": 2
}
