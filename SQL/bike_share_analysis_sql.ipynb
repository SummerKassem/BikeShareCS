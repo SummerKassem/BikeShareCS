{
 "cells": [
  {
   "cell_type": "markdown",
   "metadata": {},
   "source": [
    "\n",
    "# Outline\n",
    "\n",
    "This notebook provides the data analysis performed for a bike sharing case-study. The company has two types of riders: casual and annual members. The goal of the study was to identify how annual members and casual riders use the bikes differently in order to help the marketing team whose target is to convert casual riders into annual members in the next campaign. The structure of the notebook will be as follows:\n",
    "* Importing\n",
    "* Exploration\n",
    "* Cleaning\n",
    "* Preparation\n",
    "* Analysis\n",
    "\n",
    "# Importing\n",
    "In this project, a MySQL DBMS was used. It should be noted that the statements mentioned in this section, were run from the MySQL command line, not from this notebook. In order to be able to import the data, the following was done:\n",
    "* Enable the option to load the data from local files\n",
    "* Create the database\n",
    "* Create the tables\n",
    "* Load data into the tables"
   ]
  },
  {
   "cell_type": "code",
   "execution_count": null,
   "metadata": {
    "vscode": {
     "languageId": "sql"
    }
   },
   "outputs": [],
   "source": [
    "SET GLOBAL local_infile = 1;    \n",
    "CREATE DATABASE bike_share_db;\n",
    "use bike_share_db; "
   ]
  },
  {
   "cell_type": "markdown",
   "metadata": {},
   "source": [
    "In order to load the data, first a table for all the data was created, with an extra column month. Second, a temporary table was created with the original number of columns. "
   ]
  },
  {
   "cell_type": "code",
   "execution_count": null,
   "metadata": {
    "vscode": {
     "languageId": "sql"
    }
   },
   "outputs": [],
   "source": [
    "CREATE TABLE all_months (\n",
    "ride_id VARCHAR (200), \n",
    "rideable_type VARCHAR (200), \n",
    "started_at DATETIME, \n",
    "ended_at DATETIME, \n",
    "start_station_name VARCHAR (200), \n",
    "start_station_id VARCHAR (200), \n",
    "end_station_name VARCHAR (200), \n",
    "end_station_id VARCHAR (200), \n",
    "start_lat VARCHAR (200), \n",
    "start_lng VARCHAR (200), \n",
    "end_lat VARCHAR (200), \n",
    "end_lng VARCHAR (200), \n",
    "member_casual VARCHAR (200),\n",
    "month VARCHAR(200)\n",
    ");\n",
    "\n",
    "CREATE TEMPORARY TABLE temp_table (                  \n",
    "    ride_id VARCHAR (200), \n",
    "    rideable_type VARCHAR (200), \n",
    "    started_at DATETIME, \n",
    "    ended_at DATETIME, \n",
    "    start_station_name VARCHAR (200), \n",
    "    start_station_id VARCHAR (200), \n",
    "    end_station_name VARCHAR (200), \n",
    "    end_station_id VARCHAR (200), \n",
    "    start_lat VARCHAR (200), \n",
    "    start_lng VARCHAR (200), \n",
    "    end_lat VARCHAR (200), \n",
    "    end_lng VARCHAR (200), \n",
    "    member_casual VARCHAR (200)\n",
    ");"
   ]
  },
  {
   "cell_type": "markdown",
   "metadata": {},
   "source": [
    "Then the following steps were repeated for each month:\n",
    "* Load the data from the .csv file into the temporary table.\n",
    "* Insert the data into the all_months table while inserting the month value.\n",
    "* Delete the entries from the temporary table"
   ]
  },
  {
   "cell_type": "code",
   "execution_count": null,
   "metadata": {
    "vscode": {
     "languageId": "sql"
    }
   },
   "outputs": [],
   "source": [
    "\n",
    "LOAD DATA LOCAL INFILE '202301-divvy-tripdata.csv' \n",
    "    INTO TABLE temp_table \n",
    "    FIELDS TERMINATED BY ',' \n",
    "    OPTIONALLY ENCLOSED BY '\"' \n",
    "    LINES TERMINATED BY '\\r\\n' \n",
    "    IGNORE 1 ROWS;\n",
    "\n",
    "INSERT INTO all_months SELECT *, 'Jan' AS month FROM temp_table;\n",
    "\n",
    "TRUNCATE TABLE temp_table;"
   ]
  },
  {
   "cell_type": "markdown",
   "metadata": {},
   "source": [
    "# Exploration:\n",
    "First, we calculate the total number of rides per month, then the total and mean for the year 2023."
   ]
  },
  {
   "cell_type": "code",
   "execution_count": null,
   "metadata": {
    "vscode": {
     "languageId": "sql"
    }
   },
   "outputs": [],
   "source": [
    "SELECT  month, FORMAT(COUNT(*), 0) AS 'no of rides'\n",
    "FROM    all_months\n",
    "GROUP BY    month\n",
    "\n",
    "UNION ALL\n",
    "\n",
    "SELECT  'YEAR 2023', FORMAT(COUNT(*), 0) AS 'total_rides'\n",
    "FROM    all_months\n",
    "\n",
    "UNION ALL\n",
    "\n",
    "SELECT  'Mean 2023', FORMAT(COUNT(*)/12, 0) \n",
    "FROM    all_months"
   ]
  },
  {
   "cell_type": "markdown",
   "metadata": {},
   "source": [
    "Here I calculate the percentage of empty/null values. This is done by taking the SUM of the cases when the column value is empty, and then converting that to a percentage by dividing by COUNT. Finally the CAST function is used convert the percentage to a signed integer, making it easier to read. For the columns started_at and ended_at, where the datatype is DATETIME, the column value cannot be compared to an empty string, so instead, the function is NULL is used instead. For the columns where the result is less than 1% but not 0, the percentage was formatted to two decimal places. The result is saved to null_percentage.csv"
   ]
  },
  {
   "cell_type": "code",
   "execution_count": null,
   "metadata": {
    "vscode": {
     "languageId": "sql"
    }
   },
   "outputs": [],
   "source": [
    "SELECT  month, \n",
    "        CAST(SUM( CASE WHEN ride_id             = '' THEN 1 ELSE 0 END)*100/COUNT(*) AS SIGNED) AS ride_id_null,\n",
    "        CAST(SUM( CASE WHEN rideable_type       = '' THEN 1 ELSE 0 END)*100/COUNT(*) AS SIGNED) AS rideable_type_null,\n",
    "        CAST(SUM( CASE WHEN started_at  is NULL THEN 1 ELSE 0 END)*100/COUNT(*)      AS SIGNED) AS started_at_null,\n",
    "        CAST(SUM( CASE WHEN ended_at    is NULL THEN 1 ELSE 0 END)*100/COUNT(*)      AS SIGNED) AS ended_at_null,\n",
    "        CAST(SUM( CASE WHEN start_station_name  = '' THEN 1 ELSE 0 END)*100/COUNT(*) AS SIGNED) AS start_station_name_null,\n",
    "        CAST(SUM( CASE WHEN start_station_id    = '' THEN 1 ELSE 0 END)*100/COUNT(*) AS SIGNED) AS start_station_id_null,\n",
    "        CAST(SUM( CASE WHEN end_station_name    = '' THEN 1 ELSE 0 END)*100/COUNT(*) AS SIGNED) AS end_station_name_null,\n",
    "        CAST(SUM( CASE WHEN end_station_id      = '' THEN 1 ELSE 0 END)*100/COUNT(*) AS SIGNED) AS end_station_id_null,\n",
    "        CAST(SUM( CASE WHEN start_lat           = '' THEN 1 ELSE 0 END)*100/COUNT(*) AS SIGNED) AS start_lat_null,\n",
    "        CAST(SUM( CASE WHEN start_lng           = '' THEN 1 ELSE 0 END)*100/COUNT(*) AS SIGNED) AS start_lng_null,\n",
    "        FORMAT(SUM( CASE WHEN end_lat           = '' THEN 1 ELSE 0 END)*100/COUNT(*),2)  AS end_lat_null,\n",
    "        FORMAT(SUM( CASE WHEN end_lng           = '' THEN 1 ELSE 0 END)*100/COUNT(*),2)  AS end_lng_null,\n",
    "        CAST(SUM( CASE WHEN member_casual       = '' THEN 1 ELSE 0 END)*100/COUNT(*) AS SIGNED) AS member_casual_null\n",
    "FROM    all_months\n",
    "GROUP BY    month"
   ]
  },
  {
   "cell_type": "markdown",
   "metadata": {},
   "source": [
    "Here i find the number of distinct values for each column."
   ]
  },
  {
   "cell_type": "code",
   "execution_count": null,
   "metadata": {
    "vscode": {
     "languageId": "sql"
    }
   },
   "outputs": [],
   "source": [
    "SELECT  month,\n",
    "        COUNT(DISTINCT(ride_id))                AS ride_id_uni,\n",
    "        COUNT(DISTINCT(rideable_type))          AS rideable_type_uni,\n",
    "        COUNT(DISTINCT(started_at))             AS started_at_uni,\n",
    "        COUNT(DISTINCT(ended_at))               AS ended_at_uni,\n",
    "        COUNT(DISTINCT(start_station_name))     AS start_station_name_uni,\n",
    "        COUNT(DISTINCT(start_station_id))       AS start_station_id_uni,\n",
    "        COUNT(DISTINCT(end_station_name))       AS end_station_name_uni,\n",
    "        COUNT(DISTINCT(end_station_id))         AS end_station_id_uni,\n",
    "        COUNT(DISTINCT(start_lat))              AS start_lat_uni,\n",
    "        COUNT(DISTINCT(start_lng))              AS start_lng_uni,\n",
    "        COUNT(DISTINCT(end_lat))                AS end_lat_uni,\n",
    "        COUNT(DISTINCT(end_lng))                AS end_lng_uni,\n",
    "        COUNT(DISTINCT(member_casual))          AS member_casual_uni\n",
    "FROM    all_months\n",
    "GROUP BY month"
   ]
  },
  {
   "cell_type": "markdown",
   "metadata": {},
   "source": [
    "# Cleaning\n",
    "After seeing that the ride length can be calculated from the columns started_at and ended_at and that the columns related to ride location contains nulls and discrepancies, these columns will be dropped. But in order to leave the database unaltered, here i select entries where ended_at time is after started_at time only, and create a new table with the columns that will be needed, which are:\n",
    "* rideable_type\n",
    "* a new column ride_length = ended_at - started_at\n",
    "* a new column day_of_week extracted from the column started_at\n",
    "* member_casual\n",
    "* month"
   ]
  },
  {
   "cell_type": "code",
   "execution_count": null,
   "metadata": {
    "vscode": {
     "languageId": "sql"
    }
   },
   "outputs": [],
   "source": [
    "CREATE TABLE    all_months_cleaned AS\n",
    "SELECT          \n",
    "                rideable_type, \n",
    "                TIMESTAMPDIFF(SECOND, started_at, ended_at) AS ride_length, \n",
    "                DAYOFWEEK(started_at) AS day_of_week, \n",
    "                member_casual, \n",
    "                month\n",
    "FROM            all_months\n",
    "WHERE           ended_at >= started_at"
   ]
  },
  {
   "cell_type": "markdown",
   "metadata": {},
   "source": [
    "# Analysis:\n",
    "Here i find the number of rides per rider type: member/casual per month and for the year 2023."
   ]
  },
  {
   "cell_type": "code",
   "execution_count": null,
   "metadata": {
    "vscode": {
     "languageId": "sql"
    }
   },
   "outputs": [],
   "source": [
    "select  month as 'Month',\n",
    "        FORMAT(SUM(CASE WHEN member_casual = 'casual' THEN 1 ELSE 0 END), 0) AS 'Casual',\n",
    "        FORMAT(SUM(CASE WHEN member_casual = 'member' THEN 1 ELSE 0 END), 0) AS 'Member'\n",
    "FROM    all_months_cleaned\n",
    "GROUP BY month\n",
    "\n",
    "union all \n",
    "\n",
    "select  'Year 2023',\n",
    "        FORMAT(SUM(CASE WHEN member_casual = 'casual' THEN 1 ELSE 0 END), 0) AS 'Casual',\n",
    "        FORMAT(SUM(CASE WHEN member_casual = 'member' THEN 1 ELSE 0 END), 0) AS 'Member'\n",
    "from    all_months_cleaned\n"
   ]
  },
  {
   "cell_type": "markdown",
   "metadata": {},
   "source": [
    "Next, i get the mean and maximum ride length per rider type. The method SEC_TO_TIME converts the average ride_length from seconds to HH:MM:SS, the method DATE_FORMAT then allows us to format the date since the average method returns too many decimals. For the maximum, the value is converted to days since these rides are much too long to be displayed in HH:MM:SS. "
   ]
  },
  {
   "cell_type": "code",
   "execution_count": null,
   "metadata": {
    "vscode": {
     "languageId": "sql"
    }
   },
   "outputs": [],
   "source": [
    "select  month as 'Month',\n",
    "        DATE_FORMAT(SEC_TO_TIME(AVG(CASE WHEN member_casual = 'casual' THEN ride_length END)), '%H:%i:%s') AS 'Mean_Casual',\n",
    "        DATE_FORMAT(SEC_TO_TIME(AVG(CASE WHEN member_casual = 'member' THEN ride_length END)), '%H:%i:%s') AS 'Mean_Member',\n",
    "        CONCAT(FLOOR(MAX(CASE WHEN member_casual = 'casual' THEN ride_length END) / (24*3600)), ' days') AS 'Max_Casual',\n",
    "        CONCAT(FLOOR(MAX(CASE WHEN member_casual = 'member' THEN ride_length END) / (24*3600)), ' days') AS 'Max_Member'\n",
    "FROM    all_months_cleaned\n",
    "GROUP BY month\n",
    "\n",
    "union all \n",
    "\n",
    "select  'Year 2023',\n",
    "        DATE_FORMAT(SEC_TO_TIME(AVG(CASE WHEN member_casual = 'casual' THEN ride_length END)), '%H:%i:%s') AS 'Mean_Casual',\n",
    "        DATE_FORMAT(SEC_TO_TIME(AVG(CASE WHEN member_casual = 'member' THEN ride_length END)), '%H:%i:%s') AS 'Mean_Member',\n",
    "        CONCAT(FLOOR(MAX(CASE WHEN member_casual = 'casual' THEN ride_length END) / (24*3600)), ' days') AS 'Max_Casual',\n",
    "        CONCAT(FLOOR(MAX(CASE WHEN member_casual = 'member' THEN ride_length END) / (24*3600)), ' days') AS 'Max_Member'\n",
    "from    all_months_cleaned"
   ]
  },
  {
   "cell_type": "markdown",
   "metadata": {},
   "source": [
    "Here i find the mean ride length per rider type after grouping the data by day of the week"
   ]
  },
  {
   "cell_type": "code",
   "execution_count": null,
   "metadata": {
    "vscode": {
     "languageId": "sql"
    }
   },
   "outputs": [],
   "source": [
    "SELECT      day_of_week,\n",
    "            DATE_FORMAT(SEC_TO_TIME(AVG(CASE WHEN member_casual = 'casual' THEN ride_length END)), '%H:%i:%s')  AS 'Mean_Casual',\n",
    "            DATE_FORMAT(SEC_TO_TIME(AVG(CASE WHEN member_casual = 'member' THEN ride_length END)), '%H:%i:%s')  AS 'Mean_Member'\n",
    "FROM        all_months_cleaned\n",
    "GROUP BY    day_of_week\n",
    "ORDER BY    day_of_week"
   ]
  },
  {
   "cell_type": "markdown",
   "metadata": {},
   "source": [
    "Here i find the number of bike rides per rider type per type of bike"
   ]
  },
  {
   "cell_type": "code",
   "execution_count": null,
   "metadata": {
    "vscode": {
     "languageId": "sql"
    }
   },
   "outputs": [],
   "source": [
    "SELECT      rideable_type,    \n",
    "            FORMAT(SUM(CASE WHEN member_casual='casual' THEN 1 ELSE 0 END), 0) AS 'Casual',\n",
    "            FORMAT(SUM(CASE WHEN member_casual='member' THEN 1 ELSE 0 END), 0) AS 'Member'\n",
    "FROM        all_months_cleaned\n",
    "GROUP BY    rideable_type"
   ]
  }
 ],
 "metadata": {
  "language_info": {
   "name": "python"
  }
 },
 "nbformat": 4,
 "nbformat_minor": 2
}
